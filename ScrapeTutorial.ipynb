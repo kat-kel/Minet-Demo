{
 "cells": [
  {
   "cell_type": "code",
   "execution_count": 1,
   "id": "758d5734-5495-497b-8263-d99425bb447b",
   "metadata": {},
   "outputs": [
    {
     "name": "stdout",
     "output_type": "stream",
     "text": [
      "Requirement already satisfied: minet in /Users/kelly.christensen/.pyenv/versions/3.10.6/envs/minet-demo/lib/python3.10/site-packages (0.61.5)\n",
      "Requirement already satisfied: persist-queue>=0.7.0 in /Users/kelly.christensen/.pyenv/versions/3.10.6/envs/minet-demo/lib/python3.10/site-packages (from minet) (0.8.0)\n",
      "Requirement already satisfied: tenacity>=7.0.0 in /Users/kelly.christensen/.pyenv/versions/3.10.6/envs/minet-demo/lib/python3.10/site-packages (from minet) (8.0.1)\n",
      "Requirement already satisfied: ural<0.33,>=0.32.0 in /Users/kelly.christensen/.pyenv/versions/3.10.6/envs/minet-demo/lib/python3.10/site-packages (from minet) (0.32.1)\n",
      "Requirement already satisfied: browser-cookie3==0.13.0 in /Users/kelly.christensen/.pyenv/versions/3.10.6/envs/minet-demo/lib/python3.10/site-packages (from minet) (0.13.0)\n",
      "Requirement already satisfied: beautifulsoup4>=4.7.1 in /Users/kelly.christensen/.pyenv/versions/3.10.6/envs/minet-demo/lib/python3.10/site-packages (from minet) (4.11.1)\n",
      "Requirement already satisfied: soupsieve>=2.1 in /Users/kelly.christensen/.pyenv/versions/3.10.6/envs/minet-demo/lib/python3.10/site-packages (from minet) (2.3.2.post1)\n",
      "Requirement already satisfied: twitwi<0.15,>=0.14.0 in /Users/kelly.christensen/.pyenv/versions/3.10.6/envs/minet-demo/lib/python3.10/site-packages (from minet) (0.14.0)\n",
      "Requirement already satisfied: dateparser>=1.1.1 in /Users/kelly.christensen/.pyenv/versions/3.10.6/envs/minet-demo/lib/python3.10/site-packages (from minet) (1.1.1)\n",
      "Requirement already satisfied: cchardet>=2.1.7 in /Users/kelly.christensen/.pyenv/versions/3.10.6/envs/minet-demo/lib/python3.10/site-packages (from minet) (2.1.7)\n",
      "Requirement already satisfied: urllib3<2,>=1.26.9 in /Users/kelly.christensen/.pyenv/versions/3.10.6/envs/minet-demo/lib/python3.10/site-packages (from minet) (1.26.12)\n",
      "Requirement already satisfied: colorama>=0.4.0 in /Users/kelly.christensen/.pyenv/versions/3.10.6/envs/minet-demo/lib/python3.10/site-packages (from minet) (0.4.5)\n",
      "Requirement already satisfied: json5>=0.8.5 in /Users/kelly.christensen/.pyenv/versions/3.10.6/envs/minet-demo/lib/python3.10/site-packages (from minet) (0.9.10)\n",
      "Requirement already satisfied: lxml>=4.3.0 in /Users/kelly.christensen/.pyenv/versions/3.10.6/envs/minet-demo/lib/python3.10/site-packages (from minet) (4.9.1)\n",
      "Requirement already satisfied: casanova<0.19,>=0.18.0 in /Users/kelly.christensen/.pyenv/versions/3.10.6/envs/minet-demo/lib/python3.10/site-packages (from minet) (0.18.0)\n",
      "Requirement already satisfied: pyyaml in /Users/kelly.christensen/.pyenv/versions/3.10.6/envs/minet-demo/lib/python3.10/site-packages (from minet) (6.0)\n",
      "Requirement already satisfied: termcolor>=1.0.0 in /Users/kelly.christensen/.pyenv/versions/3.10.6/envs/minet-demo/lib/python3.10/site-packages (from minet) (1.1.0)\n",
      "Requirement already satisfied: ebbe<2,>=1.9.0 in /Users/kelly.christensen/.pyenv/versions/3.10.6/envs/minet-demo/lib/python3.10/site-packages (from minet) (1.9.0)\n",
      "Requirement already satisfied: quenouille<2,>=1.4.2 in /Users/kelly.christensen/.pyenv/versions/3.10.6/envs/minet-demo/lib/python3.10/site-packages (from minet) (1.4.2)\n",
      "Requirement already satisfied: ndjson>=0.3.1 in /Users/kelly.christensen/.pyenv/versions/3.10.6/envs/minet-demo/lib/python3.10/site-packages (from minet) (0.3.1)\n",
      "Requirement already satisfied: tqdm>=4.60.0 in /Users/kelly.christensen/.pyenv/versions/3.10.6/envs/minet-demo/lib/python3.10/site-packages (from minet) (4.64.1)\n",
      "Requirement already satisfied: keyring<19.3 in /Users/kelly.christensen/.pyenv/versions/3.10.6/envs/minet-demo/lib/python3.10/site-packages (from minet) (19.2.0)\n",
      "Requirement already satisfied: trafilatura<1.3,>=1.2.0 in /Users/kelly.christensen/.pyenv/versions/3.10.6/envs/minet-demo/lib/python3.10/site-packages (from minet) (1.2.2)\n",
      "Requirement already satisfied: pyaes in /Users/kelly.christensen/.pyenv/versions/3.10.6/envs/minet-demo/lib/python3.10/site-packages (from browser-cookie3==0.13.0->minet) (1.6.1)\n",
      "Requirement already satisfied: pbkdf2 in /Users/kelly.christensen/.pyenv/versions/3.10.6/envs/minet-demo/lib/python3.10/site-packages (from browser-cookie3==0.13.0->minet) (1.3)\n",
      "Requirement already satisfied: lz4 in /Users/kelly.christensen/.pyenv/versions/3.10.6/envs/minet-demo/lib/python3.10/site-packages (from browser-cookie3==0.13.0->minet) (4.0.2)\n",
      "Requirement already satisfied: pycryptodome in /Users/kelly.christensen/.pyenv/versions/3.10.6/envs/minet-demo/lib/python3.10/site-packages (from browser-cookie3==0.13.0->minet) (3.15.0)\n",
      "Requirement already satisfied: SecretStorage in /Users/kelly.christensen/.pyenv/versions/3.10.6/envs/minet-demo/lib/python3.10/site-packages (from browser-cookie3==0.13.0->minet) (3.3.3)\n",
      "Requirement already satisfied: file-read-backwards<3,>=2.0.0 in /Users/kelly.christensen/.pyenv/versions/3.10.6/envs/minet-demo/lib/python3.10/site-packages (from casanova<0.19,>=0.18.0->minet) (2.0.0)\n",
      "Requirement already satisfied: tzlocal in /Users/kelly.christensen/.pyenv/versions/3.10.6/envs/minet-demo/lib/python3.10/site-packages (from dateparser>=1.1.1->minet) (4.2)\n",
      "Requirement already satisfied: pytz in /Users/kelly.christensen/.pyenv/versions/3.10.6/envs/minet-demo/lib/python3.10/site-packages (from dateparser>=1.1.1->minet) (2022.2.1)\n",
      "Requirement already satisfied: regex!=2019.02.19,!=2021.8.27,<2022.3.15 in /Users/kelly.christensen/.pyenv/versions/3.10.6/envs/minet-demo/lib/python3.10/site-packages (from dateparser>=1.1.1->minet) (2022.3.2)\n",
      "Requirement already satisfied: python-dateutil in /Users/kelly.christensen/.pyenv/versions/3.10.6/envs/minet-demo/lib/python3.10/site-packages (from dateparser>=1.1.1->minet) (2.8.2)\n",
      "Requirement already satisfied: entrypoints in /Users/kelly.christensen/.pyenv/versions/3.10.6/envs/minet-demo/lib/python3.10/site-packages (from keyring<19.3->minet) (0.4)\n",
      "Requirement already satisfied: htmldate>=1.2.1 in /Users/kelly.christensen/.pyenv/versions/3.10.6/envs/minet-demo/lib/python3.10/site-packages (from trafilatura<1.3,>=1.2.0->minet) (1.3.1)\n",
      "Requirement already satisfied: charset-normalizer>=2.0.12 in /Users/kelly.christensen/.pyenv/versions/3.10.6/envs/minet-demo/lib/python3.10/site-packages (from trafilatura<1.3,>=1.2.0->minet) (2.1.1)\n",
      "Requirement already satisfied: courlan>=0.7.2 in /Users/kelly.christensen/.pyenv/versions/3.10.6/envs/minet-demo/lib/python3.10/site-packages (from trafilatura<1.3,>=1.2.0->minet) (0.8.3)\n",
      "Requirement already satisfied: certifi in /Users/kelly.christensen/.pyenv/versions/3.10.6/envs/minet-demo/lib/python3.10/site-packages (from trafilatura<1.3,>=1.2.0->minet) (2022.6.15)\n",
      "Requirement already satisfied: justext>=3.0.0 in /Users/kelly.christensen/.pyenv/versions/3.10.6/envs/minet-demo/lib/python3.10/site-packages (from trafilatura<1.3,>=1.2.0->minet) (3.0.0)\n",
      "Requirement already satisfied: twitter==2.0a0 in /Users/kelly.christensen/.pyenv/versions/3.10.6/envs/minet-demo/lib/python3.10/site-packages (from twitwi<0.15,>=0.14.0->minet) (2.0a0)\n",
      "Requirement already satisfied: phylactery<0.3,>=0.2.3 in /Users/kelly.christensen/.pyenv/versions/3.10.6/envs/minet-demo/lib/python3.10/site-packages (from ural<0.33,>=0.32.0->minet) (0.2.3)\n",
      "Requirement already satisfied: tld<1,>=0.12.1 in /Users/kelly.christensen/.pyenv/versions/3.10.6/envs/minet-demo/lib/python3.10/site-packages (from ural<0.33,>=0.32.0->minet) (0.12.6)\n",
      "Requirement already satisfied: pycountry<19,>=18.12.8 in /Users/kelly.christensen/.pyenv/versions/3.10.6/envs/minet-demo/lib/python3.10/site-packages (from ural<0.33,>=0.32.0->minet) (18.12.8)\n",
      "Requirement already satisfied: langcodes>=3.3.0 in /Users/kelly.christensen/.pyenv/versions/3.10.6/envs/minet-demo/lib/python3.10/site-packages (from courlan>=0.7.2->trafilatura<1.3,>=1.2.0->minet) (3.3.0)\n",
      "Requirement already satisfied: six>=1.5 in /Users/kelly.christensen/.pyenv/versions/3.10.6/envs/minet-demo/lib/python3.10/site-packages (from python-dateutil->dateparser>=1.1.1->minet) (1.16.0)\n",
      "Requirement already satisfied: jeepney>=0.6 in /Users/kelly.christensen/.pyenv/versions/3.10.6/envs/minet-demo/lib/python3.10/site-packages (from SecretStorage->browser-cookie3==0.13.0->minet) (0.8.0)\n",
      "Requirement already satisfied: cryptography>=2.0 in /Users/kelly.christensen/.pyenv/versions/3.10.6/envs/minet-demo/lib/python3.10/site-packages (from SecretStorage->browser-cookie3==0.13.0->minet) (38.0.0)\n",
      "Requirement already satisfied: pytz-deprecation-shim in /Users/kelly.christensen/.pyenv/versions/3.10.6/envs/minet-demo/lib/python3.10/site-packages (from tzlocal->dateparser>=1.1.1->minet) (0.1.0.post0)\n",
      "Requirement already satisfied: cffi>=1.12 in /Users/kelly.christensen/.pyenv/versions/3.10.6/envs/minet-demo/lib/python3.10/site-packages (from cryptography>=2.0->SecretStorage->browser-cookie3==0.13.0->minet) (1.15.1)\n",
      "Requirement already satisfied: tzdata in /Users/kelly.christensen/.pyenv/versions/3.10.6/envs/minet-demo/lib/python3.10/site-packages (from pytz-deprecation-shim->tzlocal->dateparser>=1.1.1->minet) (2022.2)\n",
      "Requirement already satisfied: pycparser in /Users/kelly.christensen/.pyenv/versions/3.10.6/envs/minet-demo/lib/python3.10/site-packages (from cffi>=1.12->cryptography>=2.0->SecretStorage->browser-cookie3==0.13.0->minet) (2.21)\n",
      "Note: you may need to restart the kernel to use updated packages.\n"
     ]
    }
   ],
   "source": [
    "pip install minet"
   ]
  },
  {
   "cell_type": "markdown",
   "id": "6cd1dc6b-6342-48b3-8c95-e1767ef7b60e",
   "metadata": {},
   "source": [
    "# Create an instance of Minet's `Scraper`\n",
    "\n",
    "To use the **Scraper** class from *Minet*, we have to first create an instance of it in our program. The **Scraper** class can be instantiated with only one argument: a dictionary of instructions (known as a \"definition\") that tells the scraper how to navigate the HTML tree in order to extract the desired data. The definition's logic is expressed in a special [Domain Specific Language (DSL) created for *Minet*](https://github.com/medialab/minet/blob/master/cookbook/scraping_dsl.md). Minet's DSL is always in some kind of embedded data format that Python can read as a dictionary. This means that the **Scraper** class's definition can be (a) a YAML file, (b) a JSON file, or (c) a Python dictionary. When a file path (i.e. path to a YAML or JSON file) is given as the \"definition\", *Minet* tries to open and parse the file using the `load_definition()` function in *minet/utils.py*. If the file extension isn't \".json\", \".yml\", or \".yaml\" *Minet* returns a `DefinitionInvalidFormatError`.\n",
    "\n",
    "## Step 1. Checking the definition\n",
    "Either having parsed the JSON or YAML file as a Python dictionary, or having been given directly a Python dictionary, the **Scraper** class then checks that the defintion is indeed valid using the `validate()` function from *minet/scrape/analysis.py*. The `validate()` function is extensive and appends to a list of errors any conflicts or errors it detected. If the list of errors is empty, the definition is considered valid and the instance of the **Scraper** class assigns the valid definition to itself.\n",
    "\n",
    "\n",
    "## Step 2. Analyzing the definition\n",
    "The instantiated **Scraper** class also analyzes its own definition (using the function `analyse()` from *minet/scrape/analysis*) in order to determine three parameters:\n",
    "\n",
    "   1. what headers the output should have (`headers`)\n",
    "   2. whether one node or multiple nodes are targeted (`plural`)\n",
    "   3. what type of output is requested. (`output_type`)\n",
    "   \n",
    "Having analyzed the definition with `analyse()`, the instantiation of the **Scraper** class updates its arguments with the values of the analysis's arguments (`headers`, `plural`, `output_type`).\n",
    "   \n",
    "### More detail on the headers\n",
    "\n",
    "> *Minet* exports scraped results in CSV or JSON format. In both formats, it allows for the user to specify under what customized headers certain data will be presented. If the definition contains the dictionary key called \"tabulate,\" for example, the scraper will confirm that tabulate's value is also a dictionary and then get the value of the key \"headers.\" (The value of \"headers\" should be/is probably a list, but it doesn't check for that.)\n",
    "\n",
    "> DSL to declare headers with the \"tabulate\" dictionary key:\n",
    "```\n",
    "        \"tabulate\": \n",
    "                \"headers\": [\"header1\", \"header2\", \"header3\"]\n",
    "```\n",
    "\n",
    "> Another way *Minet's* DSL lets the user assign headers to the output data is with the key \"fields.\" The value of \"fields\" should a dictionary; each key should be the name of a header, and each value should be a dictionary defining what data to extract. The function `headers_from_definition()` in *minet/scrape/analysis.py* checks that none of the keys in the \"fields\" dictionary has the value \"fields.\"\n",
    "\n",
    "> DSL to declare headers with the \"fields\" dictionary key:\n",
    "```\n",
    "        \"fields\":\n",
    "            \"content\": \"text\"\n",
    "            \"link\": \"href\"\n",
    "```\n",
    "\n",
    "## Step 3. Straining\n",
    "Finally, the instatiation of *Minet's* **Scraper** class checks whether it has been given a \"strainer,\" a clever term from the *BeautifulSoup* library, with which to parse HTML more efficiently. *BeautifulSoup* provides a **SoupStrainer** class that [\"allows you to choose which parts of an incoming document are parsed.\"](https://beautiful-soup-4.readthedocs.io/en/latest/#soupstrainer) Minet instantiates *BeautifulSoup's* **SoupStrainer** class with the variable `strainer_from_css`.\n",
    "\n",
    "... à mieux comprendre\n",
    "\n",
    "# Give the scraper some HTML data to scrape\n",
    "Once instantiated with a valid definition, the scraper is given some HTML to parse. The instantiated Scraper class takes only one argument and it must be valid HTML."
   ]
  },
  {
   "cell_type": "code",
   "execution_count": 63,
   "id": "86493d44-c1be-429f-a71a-603cfb337539",
   "metadata": {},
   "outputs": [],
   "source": [
    "# import the Scraper class \n",
    "# (the class is defined in minet/scrape/__init__.py)\n",
    "from minet import Scraper\n",
    "\n",
    "def iterate_p(html):\n",
    "    # define the HTML branches you want to scrape\n",
    "    # (the definition is validated according to the function validate() in minet/scrape/analysis.py)\n",
    "    scraper_definition = {\n",
    "        'iterator':  'p' # scrape all the elements <p> in the HTML file\n",
    "    }\n",
    "\n",
    "    # instantiate the class Scraper with your definition\n",
    "    scraper = Scraper(scraper_definition)\n",
    "\n",
    "    # give to the instantiated Scraper some HTML \n",
    "    data = scraper(html)"
   ]
  },
  {
   "cell_type": "markdown",
   "id": "06045490-e7df-4b41-a286-e4ab8c015a22",
   "metadata": {},
   "source": [
    "The scraper can prase the HTML it's given. To this object, the scraper recursively applies its de logic of its definition.\n",
    "\n",
    "The `scraper` acts on the HTML object using functions defined in `minet/scrape/interpreter.py`. "
   ]
  },
  {
   "cell_type": "code",
   "execution_count": 49,
   "id": "e024d5ac-2428-433c-8a50-cbafbb7e3062",
   "metadata": {},
   "outputs": [],
   "source": [
    "# Create some HTML for the Scraper class \n",
    "some_html = \"\"\"\n",
    "<html>\n",
    "  <head>First Scrape</head>\n",
    "  <body>\n",
    "    <p>Hello World!</p>\n",
    "  </body>\n",
    "</html>\n",
    "\"\"\""
   ]
  },
  {
   "cell_type": "code",
   "execution_count": 57,
   "id": "953c73a8-071e-42cd-941c-76f4019318da",
   "metadata": {},
   "outputs": [
    {
     "name": "stdout",
     "output_type": "stream",
     "text": [
      "<class 'list'>\n",
      "['First Scrape', 'Hello World!']\n"
     ]
    }
   ],
   "source": [
    "# apply the instantiated/defined Scraper to the HTML\n",
    "iterate_p(some_html)\n",
    "\n",
    "# verify the type of data produced by the instantiated Scraper\n",
    "print(type(data))\n",
    "# examine at the results\n",
    "print(data)"
   ]
  },
  {
   "cell_type": "code",
   "execution_count": 48,
   "id": "9e3629d4-2eb5-4b3b-a0e6-ad6f4c1995c5",
   "metadata": {},
   "outputs": [],
   "source": [
    "# Create some more HTML for the Scraper class\n",
    "some_other_html = \"\"\"\n",
    "<html>\n",
    "  <head>\n",
    "    <title>First Scrape</title>\n",
    "  </head>\n",
    "  <body>\n",
    "    <p>Hello World!</p>\n",
    "  </body>\n",
    "</html>\n",
    "\"\"\""
   ]
  },
  {
   "cell_type": "code",
   "execution_count": 58,
   "id": "c948d797-36b2-4d4f-8ce6-848f0ee7095b",
   "metadata": {},
   "outputs": [
    {
     "name": "stdout",
     "output_type": "stream",
     "text": [
      "<class 'list'>\n",
      "['First Scrape', 'Hello World!']\n"
     ]
    }
   ],
   "source": [
    "# apply the instantiated/defined Scraper to the HTML\n",
    "iterate_p(some_other_html)\n",
    "\n",
    "# verify the type of data produced by the instantiated Scraper\n",
    "print(type(data))\n",
    "# examine at the results\n",
    "print(data)"
   ]
  },
  {
   "cell_type": "code",
   "execution_count": null,
   "id": "725e3954-cd55-4ecd-910c-b113de80cc78",
   "metadata": {},
   "outputs": [],
   "source": []
  }
 ],
 "metadata": {
  "kernelspec": {
   "display_name": "Python 3 (ipykernel)",
   "language": "python",
   "name": "python3"
  },
  "language_info": {
   "codemirror_mode": {
    "name": "ipython",
    "version": 3
   },
   "file_extension": ".py",
   "mimetype": "text/x-python",
   "name": "python",
   "nbconvert_exporter": "python",
   "pygments_lexer": "ipython3",
   "version": "3.10.6"
  }
 },
 "nbformat": 4,
 "nbformat_minor": 5
}
